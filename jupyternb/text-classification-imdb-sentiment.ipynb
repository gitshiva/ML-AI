{
 "cells": [
  {
   "cell_type": "code",
   "execution_count": 3,
   "id": "b1660d77-3952-4bc5-91b2-035b1e615c6d",
   "metadata": {},
   "outputs": [
    {
     "name": "stdout",
     "output_type": "stream",
     "text": [
      "2.15.0\n",
      "All prerequisities imported.\n"
     ]
    }
   ],
   "source": [
    "# from: https://www.tensorflow.org/tutorials/keras/text_classification\n",
    "\n",
    "# all the prerequisites\n",
    "import matplotlib.pyplot as plt\n",
    "import os\n",
    "import re\n",
    "import shutil\n",
    "import string\n",
    "import tensorflow as tf\n",
    "\n",
    "from tensorflow.keras import layers\n",
    "from tensorflow.keras import losses\n",
    "print(tf.__version__)\n",
    "print ('All prerequisities imported.')"
   ]
  },
  {
   "cell_type": "code",
   "execution_count": 5,
   "id": "0f2d1e63-66e2-4bfa-b524-b443fa2917f0",
   "metadata": {},
   "outputs": [
    {
     "name": "stdout",
     "output_type": "stream",
     "text": [
      "Downloading data from https://ai.stanford.edu/~amaas/data/sentiment/aclImdb_v1.tar.gz\n",
      "84125825/84125825 [==============================] - 8s 0us/step\n",
      "dataset import and loading done.\n"
     ]
    }
   ],
   "source": [
    "url = \"https://ai.stanford.edu/~amaas/data/sentiment/aclImdb_v1.tar.gz\"\n",
    "\n",
    "dataset = tf.keras.utils.get_file(\"aclImdb_v1\", url,\n",
    "                                  untar = True, cache_dir='.',\n",
    "                                  cache_subdir='')\n",
    "\n",
    "dataset_dir = os.path.join(os.path.dirname(dataset), 'aclImdb')\n",
    "print('dataset import and loading done.')"
   ]
  },
  {
   "cell_type": "code",
   "execution_count": 6,
   "id": "fb8ab09e-fce4-4891-9b12-53d5613e17c8",
   "metadata": {},
   "outputs": [
    {
     "data": {
      "text/plain": [
       "['test', 'imdb.vocab', 'README', 'train', 'imdbEr.txt']"
      ]
     },
     "execution_count": 6,
     "metadata": {},
     "output_type": "execute_result"
    }
   ],
   "source": [
    "# checking directory contents\n",
    "os.listdir(dataset_dir)\n",
    "# you can also see this via terminal\n",
    "#shiva@ml-ai01:~/git/ML-AI/jupyternb$ ls aclImdb\n",
    "#imdbEr.txt  imdb.vocab  README  test  train\n",
    "#shiva@ml-ai01:~/git/ML-AI/jupyternb$"
   ]
  },
  {
   "cell_type": "code",
   "execution_count": 9,
   "id": "3df532f0-f015-435f-b9dd-c546ce87137f",
   "metadata": {},
   "outputs": [
    {
     "name": "stdout",
     "output_type": "stream",
     "text": [
      "Training data dir =  ['neg', 'urls_unsup.txt', 'labeledBow.feat', 'unsup', 'urls_pos.txt', 'urls_neg.txt', 'pos', 'unsupBow.feat']\n",
      "pos dir contains +ve review and neg dir contains -ve reviews\n",
      "the +ve, -ve distribution is even, so that weight is not lopsided on one classification\n"
     ]
    }
   ],
   "source": [
    "#setup the training dir\n",
    "train_dir = os.path.join(dataset_dir, 'train')\n",
    "print ('Training data dir = ', os.listdir(train_dir))\n",
    "print ('pos dir contains +ve review and neg dir contains -ve reviews')\n",
    "print ('the +ve, -ve distribution is even, so that weight is not lopsided on one classification')"
   ]
  },
  {
   "cell_type": "code",
   "execution_count": 12,
   "id": "70e18dec-fd4e-43bd-952f-33cb9b5df64c",
   "metadata": {},
   "outputs": [
    {
     "name": "stdout",
     "output_type": "stream",
     "text": [
      "Title =  ./aclImdb/train/pos/1181_9.txt\n",
      "Review =  Rachel Griffiths writes and directs this award winning short film. A heartwarming story about coping with grief and cherishing the memory of those we've loved and lost. Although, only 15 minutes long, Griffiths manages to capture so much emotion and truth onto film in the short space of time. Bud Tingwell gives a touching performance as Will, a widower struggling to cope with his wife's death. Will is confronted by the harsh reality of loneliness and helplessness as he proceeds to take care of Ruth's pet cow, Tulip. The film displays the grief and responsibility one feels for those they have loved and lost. Good cinematography, great direction, and superbly acted. It will bring tears to all those who have lost a loved one, and survived.\n",
      "Sample review printed. The label +ve is the dir name, since this review comes from pos dir, this sentiment is +ve\n"
     ]
    }
   ],
   "source": [
    "# The aclImdb/train/pos and aclImdb/train/neg directories contain many text files, each of which is a single movie review. \n",
    "# Let's take a look at one of them.\n",
    "sample_file = os.path.join(train_dir, 'pos/1181_9.txt')\n",
    "with open(sample_file) as f:\n",
    "    print('Title = ', f.name)\n",
    "    print('Review = ', f.read())\n",
    "\n",
    "print ('Sample review printed. The label +ve is the dir name, since this review comes from pos dir, this sentiment is +ve')"
   ]
  },
  {
   "cell_type": "code",
   "execution_count": 13,
   "id": "059159eb-dd1e-47cf-87d9-d2df6c78550f",
   "metadata": {},
   "outputs": [
    {
     "name": "stdout",
     "output_type": "stream",
     "text": [
      "unneeded directories removed\n"
     ]
    }
   ],
   "source": [
    "# As the IMDB dataset contains additional folders, you will remove them before using this utility.\n",
    "remove_dir = os.path.join(train_dir, 'unsup')\n",
    "shutil.rmtree(remove_dir)\n",
    "print ('unneeded directories removed')"
   ]
  },
  {
   "cell_type": "code",
   "execution_count": 15,
   "id": "d1589730-45bb-4039-9a4e-ff382dbb6c3a",
   "metadata": {},
   "outputs": [
    {
     "name": "stdout",
     "output_type": "stream",
     "text": [
      "Found 25000 files belonging to 2 classes.\n",
      "Using 20000 files for training.\n"
     ]
    }
   ],
   "source": [
    "# Next, you will use the text_dataset_from_directory utility to create a labeled tf.data.Dataset. \n",
    "# tf.data is a powerful collection of tools for working with data.\n",
    "# When running a machine learning experiment, it is a best practice to divide your \n",
    "# dataset into three splits: train, validation, and test.\n",
    "# The IMDB dataset has already been divided into train and test, but it lacks a validation set.\n",
    "# Let's create a validation set using an 80:20 split of the training data by using the validation_split argument below.\n",
    "\n",
    "batch_size = 32\n",
    "seed = 42\n",
    "\n",
    "# Note: When using the validation_split and subset arguments, make sure to either specify a random seed, or \n",
    "# to pass shuffle=False, so that the validation and training splits have no overlap.\n",
    "\n",
    "raw_train_ds = tf.keras.utils.text_dataset_from_directory(\n",
    "    'aclImdb/train',\n",
    "    batch_size=batch_size,\n",
    "    validation_split=0.2,\n",
    "    subset='training',\n",
    "    seed=seed)"
   ]
  },
  {
   "cell_type": "code",
   "execution_count": 16,
   "id": "f6f61553-f85b-43ab-a712-dc98c41916a1",
   "metadata": {},
   "outputs": [
    {
     "name": "stdout",
     "output_type": "stream",
     "text": [
      "Review b'\"Pandemonium\" is a horror movie spoof that comes off more stupid than funny. Believe me when I tell you, I love comedies. Especially comedy spoofs. \"Airplane\", \"The Naked Gun\" trilogy, \"Blazing Saddles\", \"High Anxiety\", and \"Spaceballs\" are some of my favorite comedies that spoof a particular genre. \"Pandemonium\" is not up there with those films. Most of the scenes in this movie had me sitting there in stunned silence because the movie wasn\\'t all that funny. There are a few laughs in the film, but when you watch a comedy, you expect to laugh a lot more than a few times and that\\'s all this film has going for it. Geez, \"Scream\" had more laughs than this film and that was more of a horror film. How bizarre is that?<br /><br />*1/2 (out of four)'\n",
      "Label 0\n",
      "Review b\"David Mamet is a very interesting and a very un-equal director. His first movie 'House of Games' was the one I liked best, and it set a series of films with characters whose perspective of life changes as they get into complicated situations, and so does the perspective of the viewer.<br /><br />So is 'Homicide' which from the title tries to set the mind of the viewer to the usual crime drama. The principal characters are two cops, one Jewish and one Irish who deal with a racially charged area. The murder of an old Jewish shop owner who proves to be an ancient veteran of the Israeli Independence war triggers the Jewish identity in the mind and heart of the Jewish detective.<br /><br />This is were the flaws of the film are the more obvious. The process of awakening is theatrical and hard to believe, the group of Jewish militants is operatic, and the way the detective eventually walks to the final violent confrontation is pathetic. The end of the film itself is Mamet-like smart, but disappoints from a human emotional perspective.<br /><br />Joe Mantegna and William Macy give strong performances, but the flaws of the story are too evident to be easily compensated.\"\n",
      "Label 0\n",
      "Review b'Great documentary about the lives of NY firefighters during the worst terrorist attack of all time.. That reason alone is why this should be a must see collectors item.. What shocked me was not only the attacks, but the\"High Fat Diet\" and physical appearance of some of these firefighters. I think a lot of Doctors would agree with me that,in the physical shape they were in, some of these firefighters would NOT of made it to the 79th floor carrying over 60 lbs of gear. Having said that i now have a greater respect for firefighters and i realize becoming a firefighter is a life altering job. The French have a history of making great documentary\\'s and that is what this is, a Great Documentary.....'\n",
      "Label 1\n"
     ]
    }
   ],
   "source": [
    "#If you're new to tf.data, you can also iterate over the dataset and print out a few examples as follows.\n",
    "\n",
    "for text_batch, label_batch in raw_train_ds.take(1):\n",
    "    for i in range(3):\n",
    "        print (\"Review\", text_batch.numpy()[i])\n",
    "        print(\"Label\", label_batch.numpy()[i])\n",
    "\n",
    "# clearly it's l,m,n,o,p,q .. i.e. n, neg = 0, and p, pos = 1 for classification purposes"
   ]
  },
  {
   "cell_type": "code",
   "execution_count": 17,
   "id": "3492a082-1c87-4de4-adbe-5eb8448f2fd7",
   "metadata": {},
   "outputs": [
    {
     "name": "stdout",
     "output_type": "stream",
     "text": [
      "Label 0 corresponds to  neg\n",
      "Label 1 corresponds to  pos\n"
     ]
    }
   ],
   "source": [
    "# The labels are 0 or 1. To see which of these correspond to positive and negative movie reviews, \n",
    "# you can check the class_names property on the dataset.\n",
    "\n",
    "print(\"Label 0 corresponds to \", raw_train_ds.class_names[0])\n",
    "print (\"Label 1 corresponds to \", raw_train_ds.class_names[1])"
   ]
  },
  {
   "cell_type": "code",
   "execution_count": 18,
   "id": "a9fe47b8-fd5d-4e37-a23e-29fa5cc6f683",
   "metadata": {},
   "outputs": [
    {
     "name": "stdout",
     "output_type": "stream",
     "text": [
      "Found 25000 files belonging to 2 classes.\n",
      "Using 5000 files for validation.\n",
      "Done creating validation dataset\n"
     ]
    }
   ],
   "source": [
    "#Next, you will create a validation and test dataset. You will use the remaining 5,000 reviews \n",
    "# from the training set for validation.\n",
    "\n",
    "# Note: When using the validation_split and subset arguments, make sure to either specify a random seed, or \n",
    "# to pass shuffle=False, so that the validation and training splits have no overlap.\n",
    "\n",
    "# when we did this the 1st time, the subset was training, here it is validation\n",
    "\n",
    "raw_val_ds = tf.keras.utils.text_dataset_from_directory(\n",
    "    'aclImdb/train',\n",
    "    batch_size=batch_size,\n",
    "    validation_split=0.2,\n",
    "    subset='validation',\n",
    "    seed=seed)\n",
    "print ('Done creating validation dataset')"
   ]
  },
  {
   "cell_type": "code",
   "execution_count": 19,
   "id": "0ea61b80-2e2a-49c2-b796-f449c36fb8d8",
   "metadata": {},
   "outputs": [
    {
     "name": "stdout",
     "output_type": "stream",
     "text": [
      "Found 25000 files belonging to 2 classes.\n",
      "setting up raw_test_ds completed.\n"
     ]
    }
   ],
   "source": [
    "# creating the raw test dataset, notice, this is test, the training got split into training and validation\n",
    "# this is test (real) or untrained dataset .. the model has not seen this before.\n",
    "\n",
    "raw_test_ds = tf.keras.utils.text_dataset_from_directory(\n",
    "    'aclImdb/test',\n",
    "    batch_size=batch_size)\n",
    "\n",
    "print ('setting up raw_test_ds completed.')"
   ]
  },
  {
   "cell_type": "code",
   "execution_count": 20,
   "id": "6eb5ff0f-28b2-4925-a587-4126d67675ca",
   "metadata": {},
   "outputs": [
    {
     "name": "stdout",
     "output_type": "stream",
     "text": [
      "custom_standardization function is setup\n"
     ]
    }
   ],
   "source": [
    "#Next, you will standardize, tokenize, and vectorize the data using the helpful tf.keras.layers.TextVectorization layer.\n",
    "# Standardization refers to preprocessing the text, typically to remove punctuation or HTML elements to simplify the dataset. \n",
    "# Tokenization refers to splitting strings into tokens (for example, splitting a sentence into individual words, \n",
    "# by splitting on whitespace). \n",
    "# Vectorization refers to converting tokens into numbers so they can be fed into a neural network. \n",
    "# All of these tasks can be accomplished with this layer.\n",
    "\n",
    "# this function just removes HTML\n",
    "\n",
    "def custom_standardization(input_data):\n",
    "    lowercase = tf.strings.lower(input_data)\n",
    "    stripped_html = tf.strings.regex_replace(lowercase, '<br />', ' ')\n",
    "    return tf.strings.regex_replace(stripped_html,\n",
    "                                    '[%s]' % re.escape(string.punctuation),\n",
    "                                    '')\n",
    "\n",
    "print ('custom_standardization function is setup') "
   ]
  },
  {
   "cell_type": "code",
   "execution_count": 21,
   "id": "0eaedaef-b76e-4544-9255-bfd4319260bc",
   "metadata": {},
   "outputs": [
    {
     "name": "stdout",
     "output_type": "stream",
     "text": [
      "vectorized defined\n"
     ]
    }
   ],
   "source": [
    "# Next, you will create a TextVectorization layer. You will use this layer to standardize, tokenize, and vectorize our data. \n",
    "# You set the output_mode to int to create unique integer indices for each token.\n",
    "\n",
    "max_features = 10000\n",
    "sequence_length = 250\n",
    "\n",
    "vectorize_layer = layers.TextVectorization(\n",
    "    standardize=custom_standardization,\n",
    "    max_tokens=max_features,\n",
    "    output_mode='int',\n",
    "    output_sequence_length=sequence_length)\n",
    "\n",
    "print ('vectorized defined')"
   ]
  },
  {
   "cell_type": "code",
   "execution_count": 22,
   "id": "4b8be44b-f92f-4e02-a2f3-4a05bc3eae3b",
   "metadata": {},
   "outputs": [
    {
     "name": "stdout",
     "output_type": "stream",
     "text": [
      "text-only dataset created, no labels yet\n"
     ]
    }
   ],
   "source": [
    "# Next, you will call adapt to fit the state of the preprocessing layer to the dataset. \n",
    "# This will cause the model to build an index of strings to integers.\n",
    "# Note: It's important to only use your training data when calling adapt (using the test set would leak information).\n",
    "\n",
    "# notice we are only calling train .. \n",
    "train_text = raw_train_ds.map(lambda x,y: x)\n",
    "vectorize_layer.adapt(train_text)\n",
    "\n",
    "print('text-only dataset created, no labels yet')"
   ]
  },
  {
   "cell_type": "code",
   "execution_count": 24,
   "id": "0676f844-98fc-45e3-8cfd-b7adca643fa9",
   "metadata": {},
   "outputs": [
    {
     "name": "stdout",
     "output_type": "stream",
     "text": [
      "vectorize_text function defined\n"
     ]
    }
   ],
   "source": [
    "#Let's create a function to see the result of using this layer to preprocess some data.\n",
    "\n",
    "def vectorize_text(text, label):\n",
    "    text = tf.expand_dims(text, -1)\n",
    "    return vectorize_layer(text), label\n",
    "\n",
    "print ('vectorize_text function defined')"
   ]
  },
  {
   "cell_type": "code",
   "execution_count": 27,
   "id": "f67b5285-f456-4581-a213-ec67df21ea5b",
   "metadata": {},
   "outputs": [
    {
     "name": "stdout",
     "output_type": "stream",
     "text": [
      "Review: tf.Tensor(b'Belmondo is a tough cop. He goes after a big-time drug dealer (played by Henry Silva, normally a great villain - see \"Sharky\\'s Machine\"; but here he is clearly dubbed, and because of that he lacks his usual charisma). He goes to the scuzziest places of Paris and Marseilles, asks for some names, beats up some people, gets the names, goes to more scuzzy places, asks for more names, beats up more people, etc. The whole movie is punch after punch after punch. It seems that the people who made it had no other ambition than to create the French equivalent of \"Dirty Harry\". Belmondo, who was 50 here, does perform some good stunts at the beginning; apart from those, \"Le Marginal\" is a violent, episodic, trite, shallow and forgettable cop movie. (*1/2)', shape=(), dtype=string)\n",
      "Label: neg\n",
      "Vectorized review (<tf.Tensor: shape=(1, 250), dtype=int64, numpy=\n",
      "array([[   1,    7,    4, 1233, 1021,   27,  261,  101,    4,    1, 1525,\n",
      "        6992,  248,   32, 1488,    1, 1659,    4,   86, 1011,   67,    1,\n",
      "        1707,   18,  128,   27,    7,  688, 2396,    3,   84,    5,   12,\n",
      "          27, 1453,   24,  616, 3314,   27,  261,    6,    2,    1, 1329,\n",
      "           5, 1371,    3,    1, 1581,   15,   46, 1356, 3612,   56,   46,\n",
      "          79,  201,    2, 1356,  261,    6,   50,    1, 1329, 1581,   15,\n",
      "          50, 1356, 3612,   56,   50,   79,  532,    2,  211,   17,    7,\n",
      "        2851,  101, 2851,  101, 2851,    9,  180,   12,    2,   79,   36,\n",
      "          90,    9,   66,   57,   78, 5415,   70,    6,  916,    2,  800,\n",
      "        4891,    5, 1678, 1347,    1,   36,   13, 1732,  128,  120, 3078,\n",
      "          46,   49, 3274,   31,    2,  435,  948,   35,  143, 3519,    1,\n",
      "           7,    4, 1097, 9578, 3092, 2056,    3, 2512, 1021,   17, 1105,\n",
      "           0,    0,    0,    0,    0,    0,    0,    0,    0,    0,    0,\n",
      "           0,    0,    0,    0,    0,    0,    0,    0,    0,    0,    0,\n",
      "           0,    0,    0,    0,    0,    0,    0,    0,    0,    0,    0,\n",
      "           0,    0,    0,    0,    0,    0,    0,    0,    0,    0,    0,\n",
      "           0,    0,    0,    0,    0,    0,    0,    0,    0,    0,    0,\n",
      "           0,    0,    0,    0,    0,    0,    0,    0,    0,    0,    0,\n",
      "           0,    0,    0,    0,    0,    0,    0,    0,    0,    0,    0,\n",
      "           0,    0,    0,    0,    0,    0,    0,    0,    0,    0,    0,\n",
      "           0,    0,    0,    0,    0,    0,    0,    0,    0,    0,    0,\n",
      "           0,    0,    0,    0,    0,    0,    0,    0,    0,    0,    0,\n",
      "           0,    0,    0,    0,    0,    0,    0,    0]])>, <tf.Tensor: shape=(), dtype=int32, numpy=0>)\n"
     ]
    }
   ],
   "source": [
    "# retrieve a batch (of 32 reviews and labels) from the dataset\n",
    "# hmm .. code doesn't pull 32 reviews, just 1.\n",
    "\n",
    "text_batch, label_batch = next(iter(raw_train_ds))\n",
    "first_review, first_label = text_batch[0], label_batch[0]\n",
    "print(\"Review:\", first_review)\n",
    "print(\"Label:\", raw_test_ds.class_names[first_label])\n",
    "print(\"Vectorized review\", vectorize_text(first_review, first_label))\n",
    "\n",
    "# Review tf.Tensor(b'Great movie - especially the music - Etta James - \"At Last\"\n",
    "# interesting, their run pulls a different movie than my run ... why? if the files are \n",
    "# arranged in order, perhaps not? need to investigate later.\n",
    "\n"
   ]
  },
  {
   "cell_type": "code",
   "execution_count": 28,
   "id": "d1ba78f6-6265-4e97-8972-5e3505bc31d6",
   "metadata": {},
   "outputs": [
    {
     "name": "stdout",
     "output_type": "stream",
     "text": [
      "1 -->  [UNK]\n",
      "7 -->  is\n",
      "4 -->  a\n",
      "1233 -->  tough\n",
      "1021 -->  cop\n",
      "27 -->  he\n",
      "Vocabulary size\" 10000\n"
     ]
    }
   ],
   "source": [
    "# You can lookup the token (string) that each integer corresponds to by calling .get_vocabulary() on the layer.\n",
    "# select numbers from the Vectorized View numbers\n",
    "\n",
    "print(\"1 --> \", vectorize_layer.get_vocabulary()[1])\n",
    "print(\"7 --> \", vectorize_layer.get_vocabulary()[7])\n",
    "print(\"4 --> \", vectorize_layer.get_vocabulary()[4])\n",
    "print(\"1233 --> \", vectorize_layer.get_vocabulary()[1233])\n",
    "print(\"1021 --> \", vectorize_layer.get_vocabulary()[1021])\n",
    "print(\"27 --> \", vectorize_layer.get_vocabulary()[27])\n",
    "\n",
    "print('Vocabulary size\" {}'.format(len(vectorize_layer.get_vocabulary())))\n"
   ]
  },
  {
   "cell_type": "code",
   "execution_count": 30,
   "id": "4e23987b-1dcf-4060-b149-e0ca2eba18fe",
   "metadata": {},
   "outputs": [
    {
     "name": "stdout",
     "output_type": "stream",
     "text": [
      "datasets are prepared\n"
     ]
    }
   ],
   "source": [
    "# You are nearly ready to train your model. As a final preprocessing step, you will apply the TextVectorization \n",
    "# layer you created earlier to the train, validation, and test dataset.\n",
    "\n",
    "train_ds = raw_train_ds.map(vectorize_text)\n",
    "val_ds = raw_val_ds.map(vectorize_text)\n",
    "test_ds = raw_test_ds.map(vectorize_text)\n",
    "\n",
    "print('datasets are prepared')"
   ]
  },
  {
   "cell_type": "code",
   "execution_count": 31,
   "id": "faa917cd-8395-4a95-976b-cdf6117a8cb7",
   "metadata": {},
   "outputs": [
    {
     "name": "stdout",
     "output_type": "stream",
     "text": [
      "configured datasets for performance using cache and prefetching\n"
     ]
    }
   ],
   "source": [
    "# Configure the dataset for performance\n",
    "# These are two important methods you should use when loading data to make sure that I/O does not become blocking.\n",
    "# .cache() keeps data in memory after it's loaded off disk. \n",
    "# This will ensure the dataset does not become a bottleneck while training your model. \n",
    "#If your dataset is too large to fit into memory, you can also use this method to create a performant on-disk cache, which is more efficient to read than many small files.\n",
    "# .prefetch() overlaps data preprocessing and model execution while training.\n",
    "\n",
    "AUTOTUNE = tf.data.AUTOTUNE\n",
    "\n",
    "train_ds = train_ds.cache().prefetch(buffer_size=AUTOTUNE)\n",
    "val_ds = val_ds.cache().prefetch(buffer_size=AUTOTUNE)\n",
    "test_ds = test_ds.cache().prefetch(buffer_size=AUTOTUNE)\n",
    "\n",
    "print ('configured datasets for performance using cache and prefetching')"
   ]
  },
  {
   "cell_type": "code",
   "execution_count": 32,
   "id": "b925f319-ffe1-4bc9-900f-5a59cc752a1e",
   "metadata": {},
   "outputs": [
    {
     "name": "stdout",
     "output_type": "stream",
     "text": [
      "Model: \"sequential\"\n",
      "_________________________________________________________________\n",
      " Layer (type)                Output Shape              Param #   \n",
      "=================================================================\n",
      " embedding (Embedding)       (None, None, 16)          160000    \n",
      "                                                                 \n",
      " dropout (Dropout)           (None, None, 16)          0         \n",
      "                                                                 \n",
      " global_average_pooling1d (  (None, 16)                0         \n",
      " GlobalAveragePooling1D)                                         \n",
      "                                                                 \n",
      " dropout_1 (Dropout)         (None, 16)                0         \n",
      "                                                                 \n",
      " dense (Dense)               (None, 1)                 17        \n",
      "                                                                 \n",
      "=================================================================\n",
      "Total params: 160017 (625.07 KB)\n",
      "Trainable params: 160017 (625.07 KB)\n",
      "Non-trainable params: 0 (0.00 Byte)\n",
      "_________________________________________________________________\n",
      "Model Summary =  None\n",
      "model is created\n"
     ]
    }
   ],
   "source": [
    "# It's time to create your neural network:\n",
    "\n",
    "embedding_dim = 16\n",
    "\n",
    "model = tf.keras.Sequential([\n",
    "    layers.Embedding(max_features, embedding_dim),\n",
    "    layers.Dropout(0.2),\n",
    "    layers.GlobalAveragePooling1D(),\n",
    "    layers.Dropout(0.2),\n",
    "    layers.Dense(1)\n",
    "])\n",
    "\n",
    "print ('Model Summary = ', model.summary())\n",
    "print ('model is created')"
   ]
  },
  {
   "cell_type": "code",
   "execution_count": 34,
   "id": "a36f3485-9d17-4bc4-87d1-ef7afd3e9444",
   "metadata": {},
   "outputs": [
    {
     "name": "stdout",
     "output_type": "stream",
     "text": [
      "model compiled\n"
     ]
    }
   ],
   "source": [
    "# lets compile ...\n",
    "\n",
    "# A model needs a loss function and an optimizer for training. \n",
    "# Since this is a binary (+ve/1 or -ve/0) classification problem and the model outputs a probability \n",
    "# (a single-unit layer with a sigmoid activation), you'll use losses.BinaryCrossentropy loss function.\n",
    "\n",
    "model.compile(loss=losses.BinaryCrossentropy(from_logits=True),\n",
    "              optimizer='adam',\n",
    "              metrics=tf.metrics.BinaryAccuracy(threshold=0.0))\n",
    "\n",
    "print('model compiled')"
   ]
  },
  {
   "cell_type": "code",
   "execution_count": 55,
   "id": "2a194583-d44e-46c8-b7a5-b538cd30051f",
   "metadata": {},
   "outputs": [
    {
     "name": "stdout",
     "output_type": "stream",
     "text": [
      "Epoch 1/10\n",
      "625/625 [==============================] - 2s 4ms/step - loss: 0.0252 - binary_accuracy: 0.9958 - val_loss: 0.6363 - val_binary_accuracy: 0.8622\n",
      "Epoch 2/10\n",
      "625/625 [==============================] - 2s 4ms/step - loss: 0.0238 - binary_accuracy: 0.9960 - val_loss: 0.6497 - val_binary_accuracy: 0.8624\n",
      "Epoch 3/10\n",
      "625/625 [==============================] - 2s 4ms/step - loss: 0.0225 - binary_accuracy: 0.9959 - val_loss: 0.6642 - val_binary_accuracy: 0.8612\n",
      "Epoch 4/10\n",
      "625/625 [==============================] - 2s 4ms/step - loss: 0.0219 - binary_accuracy: 0.9960 - val_loss: 0.6751 - val_binary_accuracy: 0.8632\n",
      "Epoch 5/10\n",
      "625/625 [==============================] - 2s 4ms/step - loss: 0.0205 - binary_accuracy: 0.9965 - val_loss: 0.6876 - val_binary_accuracy: 0.8608\n",
      "Epoch 6/10\n",
      "625/625 [==============================] - 2s 4ms/step - loss: 0.0196 - binary_accuracy: 0.9970 - val_loss: 0.7013 - val_binary_accuracy: 0.8620\n",
      "Epoch 7/10\n",
      "625/625 [==============================] - 2s 4ms/step - loss: 0.0191 - binary_accuracy: 0.9969 - val_loss: 0.7144 - val_binary_accuracy: 0.8608\n",
      "Epoch 8/10\n",
      "625/625 [==============================] - 2s 4ms/step - loss: 0.0180 - binary_accuracy: 0.9970 - val_loss: 0.7245 - val_binary_accuracy: 0.8614\n",
      "Epoch 9/10\n",
      "625/625 [==============================] - 2s 4ms/step - loss: 0.0172 - binary_accuracy: 0.9972 - val_loss: 0.7401 - val_binary_accuracy: 0.8612\n",
      "Epoch 10/10\n",
      "625/625 [==============================] - 2s 4ms/step - loss: 0.0156 - binary_accuracy: 0.9977 - val_loss: 0.7532 - val_binary_accuracy: 0.8604\n",
      "training completed\n"
     ]
    }
   ],
   "source": [
    "# lets train ....\n",
    "\n",
    "epochs = 10\n",
    "history = model.fit(\n",
    "    train_ds,\n",
    "    validation_data=val_ds,\n",
    "    epochs=epochs)\n",
    "\n",
    "print ('training completed')"
   ]
  },
  {
   "cell_type": "code",
   "execution_count": 56,
   "id": "b04ac888-80dd-42b8-a459-d7d9254ef5fd",
   "metadata": {},
   "outputs": [
    {
     "name": "stdout",
     "output_type": "stream",
     "text": [
      "782/782 [==============================] - 1s 2ms/step - loss: 0.9459 - binary_accuracy: 0.8318\n",
      "Loss:  0.9458633661270142\n",
      "Accuracy:  0.8318399786949158\n"
     ]
    }
   ],
   "source": [
    "# evaluate the model\n",
    "\n",
    "loss, accuracy = model.evaluate(test_ds)\n",
    "print(\"Loss: \", loss)\n",
    "print(\"Accuracy: \", accuracy)"
   ]
  },
  {
   "cell_type": "code",
   "execution_count": 57,
   "id": "6d78e546-7d3b-4286-ad1e-de3e8dfd9662",
   "metadata": {},
   "outputs": [
    {
     "name": "stdout",
     "output_type": "stream",
     "text": [
      "dict_keys(['loss', 'binary_accuracy', 'val_loss', 'val_binary_accuracy'])\n",
      "\n",
      "history data setup\n"
     ]
    }
   ],
   "source": [
    "# plot of accuracy and loss over time\n",
    "\n",
    "history_dict = history.history\n",
    "print(history_dict.keys())\n",
    "\n",
    "print ('\\nhistory data setup')"
   ]
  },
  {
   "cell_type": "code",
   "execution_count": 58,
   "id": "0b2514f1-396e-4672-8a15-29e5c5d5467b",
   "metadata": {},
   "outputs": [
    {
     "data": {
      "image/png": "[encoded data removed]",
      "text/plain": [
       "<Figure size 640x480 with 1 Axes>"
      ]
     },
     "metadata": {},
     "output_type": "display_data"
    }
   ],
   "source": [
    "# plot\n",
    "\n",
    "acc = history_dict['binary_accuracy']\n",
    "val_acc = history_dict['val_binary_accuracy']\n",
    "loss = history_dict['loss']\n",
    "val_loss = history_dict['val_loss']\n",
    "\n",
    "epochs = range(1, len(acc) + 1)\n",
    "\n",
    "# bo is for \"blue dots\"\n",
    "plt.plot(epochs, loss, 'bo', label='Training loss')\n",
    "# b is for \"solid blue line - Validation loss\n",
    "plt.plot(epochs, val_loss, 'b', label='Validation loss')\n",
    "plt.title('Training and validation loss')\n",
    "plt.xlabel('Epochs')\n",
    "plt.ylabel('Loss')\n",
    "plt.legend()\n",
    "\n",
    "plt.show()"
   ]
  },
  {
   "cell_type": "code",
   "execution_count": 59,
   "id": "a496725d-fd11-44cd-a921-af9767e68766",
   "metadata": {},
   "outputs": [
    {
     "data": {
      "image/png": "[encoded data removed]",
      "text/plain": [
       "<Figure size 640x480 with 1 Axes>"
      ]
     },
     "metadata": {},
     "output_type": "display_data"
    }
   ],
   "source": [
    "plt.plot(epochs, acc, 'bo', label='Training acc')\n",
    "plt.plot(epochs, val_acc, 'b', label='Validation acc')\n",
    "plt.title('Training and validation accuracy')\n",
    "plt.xlabel('Epochs')\n",
    "plt.ylabel('Accuracy')\n",
    "plt.legend(loc='lower right')\n",
    "\n",
    "plt.show()"
   ]
  },
  {
   "cell_type": "code",
   "execution_count": 71,
   "id": "bc61a1a9-614a-4ee1-8266-b83a26722558",
   "metadata": {},
   "outputs": [
    {
     "name": "stdout",
     "output_type": "stream",
     "text": [
      "782/782 [==============================] - 3s 3ms/step - loss: 0.9459 - accuracy: 0.8318\n",
      "0.8318399786949158\n"
     ]
    }
   ],
   "source": [
    "export_model = tf.keras.Sequential([\n",
    "  vectorize_layer,\n",
    "  model,\n",
    "  layers.Activation('sigmoid')\n",
    "])\n",
    "\n",
    "export_model.compile(\n",
    "    loss=losses.BinaryCrossentropy(from_logits=False), optimizer=\"adam\", metrics=['accuracy']\n",
    ")\n",
    "\n",
    "# Test it with `raw_test_ds`, which yields raw strings\n",
    "loss, accuracy = export_model.evaluate(raw_test_ds)\n",
    "print(accuracy)"
   ]
  },
  {
   "cell_type": "code",
   "execution_count": 80,
   "id": "15958c2b-5924-42f9-86f5-7d87d847288f",
   "metadata": {},
   "outputs": [
    {
     "name": "stdout",
     "output_type": "stream",
     "text": [
      "1/1 - 0s - 31ms/epoch - 31ms/step\n"
     ]
    },
    {
     "data": {
      "text/plain": [
       "array([[0.7232987 ],\n",
       "       [0.15645652],\n",
       "       [0.11720741],\n",
       "       [0.7616334 ],\n",
       "       [0.44983342],\n",
       "       [0.01137185],\n",
       "       [0.84816414],\n",
       "       [0.908514  ],\n",
       "       [0.01974137]], dtype=float32)"
      ]
     },
     "execution_count": 80,
     "metadata": {},
     "output_type": "execute_result"
    }
   ],
   "source": [
    "examples = [\n",
    "  \"The movie was great!\",\n",
    "  \"The movie was okay.\",\n",
    "  \"The movie was terrible...\",\n",
    "  \"Best movie ever!\",\n",
    "  \"could not wait for the movie to end\",\n",
    "  \"What a waste of time with this move\",\n",
    "  \"The movie is fantastic\",\n",
    "  \"terrific, I'd watch it again\",\n",
    "    \"waste of time\"\n",
    "]\n",
    "\n",
    "export_model.predict(examples, verbose=2)"
   ]
  },
  {
   "cell_type": "code",
   "execution_count": null,
   "id": "e83c2181-6cc3-4730-b8a9-dc80794ccbed",
   "metadata": {},
   "outputs": [],
   "source": []
  }
 ],
 "metadata": {
  "kernelspec": {
   "display_name": "Python 3 (ipykernel)",
   "language": "python",
   "name": "python3"
  },
  "language_info": {
   "codemirror_mode": {
    "name": "ipython",
    "version": 3
   },
   "file_extension": ".py",
   "mimetype": "text/x-python",
   "name": "python",
   "nbconvert_exporter": "python",
   "pygments_lexer": "ipython3",
   "version": "3.10.12"
  }
 },
 "nbformat": 4,
 "nbformat_minor": 5
}
