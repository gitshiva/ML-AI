{
 "cells": [
  {
   "cell_type": "code",
   "execution_count": null,
   "id": "85bccebf-2bb7-4a7e-a099-10209614cc11",
   "metadata": {},
   "outputs": [],
   "source": [
    "# TensorFlow and tf.keras - need them!\n",
    "import tensorflow as tf\n",
    "\n",
    "# Helper libraries\n",
    "import numpy as np\n",
    "import matplotlib.pyplot as plt\n",
    "\n",
    "# just a quick check point ...\n",
    "print(tf.__version__)\n",
    "\n",
    "#2024-02-11 15:45:20.003909: I external/local_tsl/tsl/cuda/cudart_stub.cc:31] Could not find cuda drivers on your machine, \n",
    "# GPU will not be used.\n",
    "# TO-DO - why don't we install the cuda drivers .. we already have 'em anyways ...\n",
    "# okay NVIDIA reports it can't see nvidia card, which means, ESXi must allow for me .. \n",
    "# Check: https://docs.vmware.com/en/VMware-Edge-Compute-Stack/1.0/ecs-enterprise-edge-ref-arch/GUID-19022CB0-8ABC-4CB3-A462-E43F569CD471.html\n",
    "# for now, no cuda!\n",
    "\n",
    "# download the dataset\n",
    "# mnist = modified NIST\n",
    "fashion_mnist = tf.keras.datasets.fashion_mnist\n",
    "(train_images, train_labels), (test_images, test_labels) = fashion_mnist.load_data()\n",
    "\n",
    "# class names, so we can print it later\n",
    "class_names = ['0 = T-Shirt/top', '1 = Trouser', '2 = Pullover', \n",
    "               '3 = Dress', '4 = Coat', '5 = Sandal', \n",
    "               '6 = Shirt', '7 = Sneaker', '8 = Bag', \n",
    "               '9 = Ankle Boot']"
   ]
  },
  {
   "cell_type": "code",
   "execution_count": null,
   "id": "0d015139-9776-4d50-aec5-ed7edf6ea531",
   "metadata": {},
   "outputs": [],
   "source": [
    "# tell us the shape of the training image set\n",
    "print('Training image shape:', train_images.shape)\n",
    "# 60K images, 28x28px\n",
    "\n",
    "# we can do same for test/validation set\n",
    "print('Test image shape:', test_images.shape)\n",
    "#10K images, 28x28px\n",
    "\n",
    "# we can do the same for the num of labels available, it will match the # of images\n",
    "print('# of training labels: ', len(train_labels))\n",
    "print('# of test labels: ', len(test_labels))\n",
    "\n",
    "#each label is an integer between 0-9, corresponding to the number\n",
    "# of classes we have, which is 10\n",
    "\n",
    "print ('Training Labels 1st and last 3: ', train_labels)\n",
    "\n",
    "# if you want to see ALL the labels\n",
    "#for i in range (0,60000):\n",
    "#    print ('label: ', i, ' = ', train_labels[i])\n",
    "\n",
    "# if you want to see the 1st and last 3 images:\n",
    "# this corresponds to the training labels:\n",
    "plt.figure()\n",
    "plt.imshow(train_images[0])\n",
    "plt.colorbar()\n",
    "print('Class = ', class_names)\n",
    "print('Label for this image = ', train_labels[0])\n",
    "plt.show()\n",
    "\n",
    "plt.imshow(train_images[1])\n",
    "print('Class = ', class_names)\n",
    "print('Label for this image = ', train_labels[1])\n",
    "plt.show()\n",
    "\n",
    "plt.imshow(train_images[2])\n",
    "print('Class = ', class_names)\n",
    "print('Label for this image = ', train_labels[2])\n",
    "plt.show()\n",
    "\n",
    "plt.imshow(train_images[59997])\n",
    "print('Class = ', class_names)\n",
    "print('Label for this image = ', train_labels[59997])\n",
    "plt.show()\n",
    "\n",
    "plt.imshow(train_images[59998])\n",
    "print('Class = ', class_names)\n",
    "print('Label for this image = ', train_labels[59998])\n",
    "plt.show()\n",
    "\n",
    "plt.imshow(train_images[59999])\n",
    "print('Class = ', class_names)\n",
    "print('Label for this image = ', train_labels[59999])\n",
    "plt.show()"
   ]
  },
  {
   "cell_type": "code",
   "execution_count": null,
   "id": "8455db8b-9258-4538-bfcf-54030200bd43",
   "metadata": {},
   "outputs": [],
   "source": [
    "# preprocess the data\n",
    "plt.figure()\n",
    "plt.imshow(train_images[0])\n",
    "plt.colorbar()\n",
    "plt.show\n",
    "# pre processing happens in next cell ..."
   ]
  },
  {
   "cell_type": "code",
   "execution_count": null,
   "id": "9132557f-ed65-4d57-b762-3ba737301475",
   "metadata": {},
   "outputs": [],
   "source": [
    "# if you run this step more than once, results are going to shitty ...\n",
    "# because we will keep reducing train_images and test_images ..\n",
    "# this happened to me .. I was playing with the display w/o realizing I was further reducing the scale factor\n",
    "# model accuracy was CRAP!!!\n",
    "\n",
    "# just look at the test accuracy (from my initial run)\n",
    "# 313/313 - 0s - loss: 2.3026 - accuracy: 0.1000 - 496ms/epoch - 2ms/step\n",
    "# Test Accuracy:  0.10000000149011612\n",
    "\n",
    "# thankfully, fix is easy, I'm going to restart kernel & startover.\n",
    "\n",
    "# yup, much better results, post restarting kernel.\n",
    "# 313/313 - 0s - loss: 0.3505 - accuracy: 0.8791 - 483ms/epoch - 2ms/step\n",
    "#Test Accuracy:  0.8791000247001648 - # look @ the accuracy improvement! wow!\n",
    "\n",
    "\n",
    "train_images = train_images / 255.0\n",
    "test_images = test_images / 255.0"
   ]
  },
  {
   "cell_type": "code",
   "execution_count": null,
   "id": "52005eca-c800-4f4b-aa77-d66a8cf145c1",
   "metadata": {},
   "outputs": [],
   "source": [
    "# to verify the data is in the correct format and we are ready\n",
    "# let us display the first 25 images\n",
    "\n",
    "plt.figure(figsize=(10,10))\n",
    "for i in range (25):\n",
    "    # I assume subplot 5,5 = 25 pic grid since we are printing 25 images\n",
    "    plt.subplot(5,5, i+1)\n",
    "    plt.xticks([])\n",
    "    plt.yticks([])\n",
    "    plt.grid(False)\n",
    "    plt.imshow(train_images[i], cmap=plt.cm.binary)\n",
    "    plt.xlabel(class_names[train_labels[i]])\n",
    "plt.show()"
   ]
  },
  {
   "cell_type": "code",
   "execution_count": null,
   "id": "8a9a0d75-6997-459e-8e74-4d9720c24242",
   "metadata": {},
   "outputs": [],
   "source": [
    "# okay, now we can design & setup the model itself\n",
    "# straight sequential layers ...\n",
    "\n",
    "model = tf.keras.Sequential([\n",
    "    # 1st layer = flatten image data from matrix to 2d\n",
    "    tf.keras.layers.Flatten(input_shape=(28, 28)),\n",
    "    # 2nd layer, building the nodes/neurons\n",
    "    tf.keras.layers.Dense(128, activation = 'relu'),\n",
    "    # 3rd and final layer returns a logits array with a length of 10 corresponding to our 10 classes\n",
    "    tf.keras.layers.Dense(10)\n",
    "])\n",
    "print ('Model is built.')"
   ]
  },
  {
   "cell_type": "code",
   "execution_count": null,
   "id": "19a57340-130e-4f9f-9383-ef7f5ada67fb",
   "metadata": {},
   "outputs": [],
   "source": [
    "# now on to compiling the model\n",
    "\n",
    "model.compile(optimizer='adam',\n",
    "              loss=tf.keras.losses.SparseCategoricalCrossentropy(from_logits=True),\n",
    "              metrics=['accuracy'])\n",
    "print('Model is compiled.')"
   ]
  },
  {
   "cell_type": "code",
   "execution_count": null,
   "id": "c7f9417f-e9e9-4660-9e24-a7b86bfb1a0b",
   "metadata": {},
   "outputs": [],
   "source": [
    "# now we have to train the model using .fit\n",
    "\n",
    "model.fit(train_images, train_labels, epochs=10)\n",
    "print ('Model is trained.')"
   ]
  },
  {
   "cell_type": "code",
   "execution_count": null,
   "id": "8efd6df9-cd1a-4361-a3e9-23ec9af5603d",
   "metadata": {},
   "outputs": [],
   "source": [
    "# lets evaluvate the accuracy\n",
    "\n",
    "test_loss, test_acc = model.evaluate(test_images, test_labels, verbose=2)\n",
    "print('\\nTest Accuracy: ', test_acc)\n",
    "\n",
    "#https://www.tensorflow.org/tutorials/keras/classification\n",
    "#It turns out that the accuracy on the test dataset is a little less than the accuracy on the training dataset. \n",
    "#This gap between training accuracy and test accuracy represents overfitting. Overfitting happens when a \n",
    "#machine learning model performs worse on new, previously unseen inputs than it does on the training data. \n",
    "#An overfitted model \"memorizes\" the noise and details in the training dataset to a point where it negatively \n",
    "#impacts the performance of the model on the new data."
   ]
  },
  {
   "cell_type": "code",
   "execution_count": null,
   "id": "3c46b161-361c-4def-bdbe-295b88b68779",
   "metadata": {},
   "outputs": [],
   "source": [
    "# adding softmax for converting logits to probabilities\n",
    "probability_model = tf.keras.Sequential([model, \n",
    "                                         tf.keras.layers.Softmax()])\n",
    "# layer added.\n",
    "print('Softmax layer added')\n",
    "# hmm .. why is the summary not showing the softmax layer? or is softmax not considered a layer? - most likely NO ... need to check.\n",
    "model.summary()"
   ]
  },
  {
   "cell_type": "code",
   "execution_count": null,
   "id": "72175370-25fa-491d-813a-53d3593fc2c1",
   "metadata": {},
   "outputs": [],
   "source": [
    "# now do the predictions\n",
    "# predict with the test images!\n",
    "predictions = probability_model.predict(test_images)\n",
    "print ('predictions with test_images done!')"
   ]
  },
  {
   "cell_type": "code",
   "execution_count": null,
   "id": "451da96b-5904-4c9e-beae-4955a47ea56f",
   "metadata": {},
   "outputs": [],
   "source": [
    "# print the predicted values\n",
    "# just the of the first image from the test_images set ...\n",
    "print(predictions[0])\n",
    "# or 1 more ... the 2nd image\n",
    "print('All predictions, values should look different ...\\n ', predictions)"
   ]
  },
  {
   "cell_type": "code",
   "execution_count": null,
   "id": "9d6905eb-7ba7-4c44-a27b-004c71661da7",
   "metadata": {},
   "outputs": [],
   "source": [
    "# find max of this array, meaning the one with the highest confidence\n",
    "print('I predict for test_image[0] ...', np.argmax(predictions[0]))\n",
    "print('Actual Label of test_images[0]', test_labels[0])"
   ]
  },
  {
   "cell_type": "code",
   "execution_count": null,
   "id": "26d8ccc4-1d6b-4d53-93c2-1ac5dc61c924",
   "metadata": {},
   "outputs": [],
   "source": [
    "# now we can define a function to graph the full set of 10 class predictions\n",
    "def plot_image(i, predictions_array, true_label, img):\n",
    "    true_label, img = true_label[i], img[i]\n",
    "    plt.grid(False)\n",
    "    plt.xticks([])\n",
    "    plt.yticks([])\n",
    "\n",
    "    plt.imshow(img, cmap=plt.cm.binary)\n",
    "\n",
    "    predicted_label = np.argmax(predictions_array)\n",
    "    if predicted_label == true_label:\n",
    "        color = 'blue'\n",
    "    else:\n",
    "        color = 'red'\n",
    "\n",
    "    plt.xlabel(\"Predct: {} with \\n\\n{:2.0f}% Confidence\\n\\nTrue: ({})\".format(class_names[predicted_label],\n",
    "                                    100*np.max(predictions_array),\n",
    "                                    class_names[true_label]),\n",
    "                                    color=color)\n",
    "def plot_value_array(i, predictions_array, true_label):\n",
    "    true_label = true_label[i]\n",
    "    plt.grid(False)\n",
    "    plt.xticks(range(10))\n",
    "    plt.yticks([])\n",
    "    thisplot = plt.bar(range(10), predictions_array, color=\"#777777\")\n",
    "    plt.ylim([0, 1])\n",
    "    predicted_label = np.argmax(predictions_array)\n",
    "\n",
    "    thisplot[predicted_label].set_color('red')\n",
    "    thisplot[true_label].set_color('blue')\n",
    "\n",
    "print('function definitions done ...')\n"
   ]
  },
  {
   "cell_type": "code",
   "execution_count": null,
   "id": "7f264373-10a1-4e51-8f6d-6d06828762cf",
   "metadata": {},
   "outputs": [],
   "source": [
    "i = 2132\n",
    "plt.figure(figsize=(6,3))\n",
    "plt.subplot(1,2,1)\n",
    "plot_image(i, predictions[i], test_labels, test_images)\n",
    "plt.subplot(1,2,2)\n",
    "plot_value_array(i, predictions[i], test_labels)\n",
    "plt.show()"
   ]
  },
  {
   "cell_type": "code",
   "execution_count": null,
   "id": "5533aca6-2dfe-4d4f-be48-a124566d1be9",
   "metadata": {},
   "outputs": [],
   "source": [
    "# Lets plot the same for the first 15 images .. \n",
    "num_rows = 5\n",
    "num_cols=3\n",
    "num_images = num_rows * num_cols\n",
    "plt.figure(figsize=(2*2*num_cols, 2*num_rows))\n",
    "for i in range(num_images):\n",
    "    plt.subplot(num_rows, 2*num_cols, 2*i+1)\n",
    "    plot_image(i, predictions[i], test_labels, test_images)\n",
    "    plt.subplot(num_rows, 2*num_cols, 2*i+2)\n",
    "    plot_value_array(i, predictions[i], test_labels)\n",
    "plt.tight_layout()\n",
    "plt.show"
   ]
  },
  {
   "cell_type": "code",
   "execution_count": null,
   "id": "fcf21622-f84a-4d33-ad03-828f254b4688",
   "metadata": {},
   "outputs": [],
   "source": [
    "# we know the model is working well, but we test it with 1 test image anyways\n",
    "# \n",
    "# pick a random image from test_set of 1-10000\n",
    "# we picked 3527\n",
    "img = test_images[3527]\n",
    "print ('Test image shape = ', img.shape)\n",
    "print('Actual Label = ', test_labels[3527])\n",
    "print('Actual image = ')\n",
    "plt.imshow(img)\n",
    "plt.show()\n",
    "\n",
    "# add image to a batch, since tf.keras are optimized to make predictions on a batch or collections of examples at once.\n",
    "# accordingly even though we are using a single image for test, we make this a list\n",
    "img = (np.expand_dims(img,0))\n",
    "print ('Same test image, but now as a batch/list: ', img.shape)"
   ]
  },
  {
   "cell_type": "code",
   "execution_count": null,
   "id": "278ec3e8-8309-4bc5-95ba-3691daff6f85",
   "metadata": {},
   "outputs": [],
   "source": [
    "# predicting the class of the randomly chosen image\n",
    "predictions_single = probability_model.predict(img)\n",
    "print(predictions_single)"
   ]
  },
  {
   "cell_type": "code",
   "execution_count": null,
   "id": "6532d332-c013-4a86-9a4c-3f150dccd465",
   "metadata": {},
   "outputs": [],
   "source": [
    "# Plotting it ...\n",
    "plot_value_array(1, predictions_single[0], test_labels)\n",
    "_ = plt.xticks(range(10), class_names, rotation=45)\n",
    "plt.show()\n",
    "# the prediction shows in RED because, plot uses red=prediction, blue=actual .. \n",
    "# the color in the chart does not indicate whethere the prediction is right or wrong ..."
   ]
  },
  {
   "cell_type": "code",
   "execution_count": null,
   "id": "62fee143-829f-4910-b938-e1f87c85c527",
   "metadata": {
    "scrolled": true
   },
   "outputs": [],
   "source": [
    "np.argmax(predictions_single[0])"
   ]
  },
  {
   "cell_type": "code",
   "execution_count": null,
   "id": "f2191d83-188a-4fb0-ba4a-e2c168034c39",
   "metadata": {},
   "outputs": [],
   "source": [
    "# saving our model\n",
    "tf.keras.models.save_model(model, \"fashion-mnist-model-11Feb2024.keras\")\n",
    "print('Model saved')"
   ]
  }
 ],
 "metadata": {
  "kernelspec": {
   "display_name": "Python 3 (ipykernel)",
   "language": "python",
   "name": "python3"
  },
  "language_info": {
   "codemirror_mode": {
    "name": "ipython",
    "version": 3
   },
   "file_extension": ".py",
   "mimetype": "text/x-python",
   "name": "python",
   "nbconvert_exporter": "python",
   "pygments_lexer": "ipython3",
   "version": "3.10.12"
  }
 },
 "nbformat": 4,
 "nbformat_minor": 5
}
