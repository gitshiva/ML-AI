{
 "cells": [
  {
   "cell_type": "code",
   "execution_count": null,
   "id": "26444df7-e986-4220-aa0d-821c17536d24",
   "metadata": {},
   "outputs": [],
   "source": [
    "# pip install tensorflow-hub\n",
    "# pip install tensorflow-datasets\n",
    "# done at terminal - just know we need these python modules"
   ]
  },
  {
   "cell_type": "code",
   "execution_count": null,
   "id": "99584e1a-8270-41db-a8b3-46b0e34e8d21",
   "metadata": {},
   "outputs": [],
   "source": [
    "# all the pre-requirements\n",
    "\n",
    "import os\n",
    "import numpy as np\n",
    "\n",
    "import tensorflow as tf\n",
    "import tensorflow_hub as hub\n",
    "# weird that they don't call hub as tfhub to keep consistency, what gives?\n",
    "import tensorflow_datasets as tfds\n",
    "\n",
    "print('Version: ', tf.__version__)\n",
    "print('Eager mode: ', tf.executing_eagerly())\n",
    "print('Hub Version: ', hub.__version__)\n",
    "print ('GPU is', 'available' if tf.config.list_physical_devices(\"GPU\") else \"NOT AVAILABLE\")"
   ]
  },
  {
   "cell_type": "code",
   "execution_count": null,
   "id": "de90b80b-657f-4d82-b0dc-a9d8b0fdcf0b",
   "metadata": {},
   "outputs": [],
   "source": [
    "# download the dataset, this is that same as the other imdb dataset we use but directly from tfds\n",
    "\n",
    "print ('Loading imdb dataset from tfds ... may take a while')\n",
    "train_data, validation_data, test_data = tfds.load(\n",
    "    name=\"imdb_reviews\",\n",
    "    split=('train[:60%]', 'train[:60%]', 'test'),\n",
    "    as_supervised=True)\n",
    "print ('done downloading dataset')"
   ]
  },
  {
   "cell_type": "code",
   "execution_count": null,
   "id": "4eb1f2f7-3512-437c-9ec6-dacc11b4be23",
   "metadata": {},
   "outputs": [],
   "source": [
    "# explorint dataset\n",
    "\n",
    "train_examples_batch, train_labels_batch = next(iter(train_data.batch(10)))\n",
    "train_examples_batch"
   ]
  },
  {
   "cell_type": "code",
   "execution_count": null,
   "id": "304af6b7-681b-4b3b-bb5e-d24798ca575e",
   "metadata": {},
   "outputs": [],
   "source": [
    "# also print labels\n",
    "\n",
    "train_labels_batch\n",
    "# as expected, it's 0 = neg review, 1 = positive review"
   ]
  },
  {
   "cell_type": "code",
   "execution_count": null,
   "id": "eb906ac2-0a45-416d-9616-815d175f60ab",
   "metadata": {},
   "outputs": [],
   "source": [
    "# this is where this example differs, we are now using a prebuilt model\n",
    "\n",
    "print ('starting .. might take a min')\n",
    "embedding = \"https://tfhub.dev/google/nnlm-en-dim50/2\"\n",
    "hub_layer = hub.KerasLayer(embedding, input_shape=[], \n",
    "                           dtype=tf.string, trainable=True)\n",
    "hub_layer(train_examples_batch[:3])\n",
    "print ('done!')"
   ]
  },
  {
   "cell_type": "code",
   "execution_count": null,
   "id": "a4286eff-7642-4f3b-ba84-a4102147c6db",
   "metadata": {},
   "outputs": [],
   "source": [
    "# building the rest/full model\n",
    "\n",
    "# notice how all the pre-processing is not here ...\n",
    "\n",
    "model = tf.keras.Sequential()\n",
    "model.add(hub_layer)\n",
    "model.add(tf.keras.layers.Dense(16, activation='relu'))\n",
    "model.add(tf.keras.layers.Dense(1))\n",
    "\n",
    "model.summary()"
   ]
  },
  {
   "cell_type": "code",
   "execution_count": null,
   "id": "1f83ae66-e07f-436c-a0be-697d87a6754a",
   "metadata": {},
   "outputs": [],
   "source": [
    "# compile model\n",
    "\n",
    "model.compile(optimizer='adam',\n",
    "              loss=tf.keras.losses.BinaryCrossentropy(from_logits=True),\n",
    "              metrics=['accuracy'])\n",
    "\n",
    "print('done compiling.')"
   ]
  },
  {
   "cell_type": "code",
   "execution_count": null,
   "id": "76179002-2816-4405-b5f8-83236544f310",
   "metadata": {},
   "outputs": [],
   "source": [
    "# training the model\n",
    "\n",
    "history = model.fit(train_data.shuffle(10000).batch(512),\n",
    "                    epochs=10,\n",
    "                    validation_data=validation_data.batch(512),\n",
    "                    verbose=1)\n",
    "\n",
    "print ('done fitting')"
   ]
  },
  {
   "cell_type": "code",
   "execution_count": null,
   "id": "7cae1caf-760a-42ba-8364-c976bacdcd4f",
   "metadata": {},
   "outputs": [],
   "source": [
    "results = model.evaluate(test_data.batch(512), verbose=2)\n",
    "\n",
    "for name, value in zip(model.metrics_names, results):\n",
    "  print(\"%s: %.5f\" % (name, value))"
   ]
  },
  {
   "cell_type": "code",
   "execution_count": null,
   "id": "107f54ed-2515-43f9-8883-26a87c0ac42a",
   "metadata": {},
   "outputs": [],
   "source": [
    "# That's it .. see how small the number of steps in this example becaues we used pre-built models."
   ]
  }
 ],
 "metadata": {
  "kernelspec": {
   "display_name": "Python 3 (ipykernel)",
   "language": "python",
   "name": "python3"
  },
  "language_info": {
   "codemirror_mode": {
    "name": "ipython",
    "version": 3
   },
   "file_extension": ".py",
   "mimetype": "text/x-python",
   "name": "python",
   "nbconvert_exporter": "python",
   "pygments_lexer": "ipython3",
   "version": "3.10.12"
  }
 },
 "nbformat": 4,
 "nbformat_minor": 5
}
